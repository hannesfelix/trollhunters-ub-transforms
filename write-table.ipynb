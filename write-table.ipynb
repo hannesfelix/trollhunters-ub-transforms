{
 "cells": [
  {
   "cell_type": "code",
   "execution_count": 5,
   "metadata": {},
   "outputs": [],
   "source": [
    "from pyspark.sql import SparkSession\n",
    "\n",
    "spark = SparkSession \\\n",
    "    .builder \\\n",
    "    .appName(\"Dump MYSQL\") \\\n",
    "    .config(\"spark.jars\", \"/home/jovyan/work/mysql-connector-java-5.1.48.jar\") \\\n",
    "    .getOrCreate()\n",
    "\n",
    "table = 'tweets-2017-10'\n",
    "\n",
    "def db():\n",
    "    return spark.read \\\n",
    "        .format(\"jdbc\") \\\n",
    "        .option(\"driver\", 'com.mysql.jdbc.Driver') \\\n",
    "        .option(\"url\", \"jdbc:mysql://mysql/tweeter\") \\\n",
    "        .option(\"user\", \"root\") \\\n",
    "        .option(\"password\", \"\")\n",
    "\n",
    "query = f'(SELECT min(id), max(id) FROM `{table}`) AS tmp'\n",
    "\n",
    "lower, upper = db() \\\n",
    "    .option(\"dbtable\", query) \\\n",
    "    .load() \\\n",
    "    .first()\n",
    "\n",
    "month = db() \\\n",
    "    .option(\"dbtable\", f\"`{table}`\") \\\n",
    "    .option(\"partitionColumn\", \"id\") \\\n",
    "    .option(\"numPartitions\",\"4800\") \\\n",
    "    .option(\"lowerBound\",f\"{lower}\") \\\n",
    "    .option(\"upperBound\",f\"{upper}\") \\\n",
    "    .load()\n",
    "\n",
    "\n",
    "month.write.parquet(f'{table}.parquet')"
   ]
  }
 ],
 "metadata": {
  "kernelspec": {
   "display_name": "Python 3",
   "language": "python",
   "name": "python3"
  },
  "language_info": {
   "codemirror_mode": {
    "name": "ipython",
    "version": 3
   },
   "file_extension": ".py",
   "mimetype": "text/x-python",
   "name": "python",
   "nbconvert_exporter": "python",
   "pygments_lexer": "ipython3",
   "version": "3.7.3"
  }
 },
 "nbformat": 4,
 "nbformat_minor": 2
}
